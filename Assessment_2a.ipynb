{
  "nbformat": 4,
  "nbformat_minor": 0,
  "metadata": {
    "colab": {
      "provenance": [],
      "include_colab_link": true
    },
    "kernelspec": {
      "name": "python3",
      "display_name": "Python 3"
    },
    "language_info": {
      "name": "python"
    }
  },
  "cells": [
    {
      "cell_type": "markdown",
      "metadata": {
        "id": "view-in-github",
        "colab_type": "text"
      },
      "source": [
        "<a href=\"https://colab.research.google.com/github/oliyoung/oliyoung/blob/main/Assessment_2a.ipynb\" target=\"_parent\"><img src=\"https://colab.research.google.com/assets/colab-badge.svg\" alt=\"Open In Colab\"/></a>"
      ]
    },
    {
      "cell_type": "markdown",
      "source": [
        "# Setup"
      ],
      "metadata": {
        "id": "5DsGmLTVKZ6N"
      }
    },
    {
      "cell_type": "markdown",
      "metadata": {
        "id": "c99UfO4VWr0i"
      },
      "source": [
        "## Upload data"
      ]
    },
    {
      "cell_type": "code",
      "metadata": {
        "colab": {
          "base_uri": "https://localhost:8080/"
        },
        "id": "6z86oGGuWxdk",
        "outputId": "455176a0-6e52-4613-ccd5-4eae2db252fe"
      },
      "source": [
        "from google.colab import drive \n",
        "drive.mount('/content/gdrive') \n",
        "%cd gdrive/ \n",
        "%cd MyDrive/"
      ],
      "execution_count": 71,
      "outputs": [
        {
          "output_type": "stream",
          "name": "stdout",
          "text": [
            "Drive already mounted at /content/gdrive; to attempt to forcibly remount, call drive.mount(\"/content/gdrive\", force_remount=True).\n",
            "[Errno 2] No such file or directory: 'gdrive/'\n",
            "/content/gdrive/MyDrive\n",
            "[Errno 2] No such file or directory: 'MyDrive/'\n",
            "/content/gdrive/MyDrive\n"
          ]
        }
      ]
    },
    {
      "cell_type": "markdown",
      "source": [
        "## Import Data & Create a DataFrame"
      ],
      "metadata": {
        "id": "GpHmS5E6Ie8O"
      }
    },
    {
      "cell_type": "code",
      "metadata": {
        "colab": {
          "base_uri": "https://localhost:8080/",
          "height": 206
        },
        "id": "3IBBrxi3WArv",
        "outputId": "e844862b-2b05-44c2-deb3-26f927244c8e"
      },
      "source": [
        "import pandas as pd \n",
        "dataframe = pd.read_csv('Cellphone1.csv') \n",
        "dataframe.head()"
      ],
      "execution_count": 72,
      "outputs": [
        {
          "output_type": "execute_result",
          "data": {
            "text/plain": [
              "   Churn  AccountWeeks  ContractRenewal  DataPlan  DataUsage  CustServCalls  \\\n",
              "0      0           128                1         1        2.7              1   \n",
              "1      0           107                1         1        3.7              1   \n",
              "2      0           137                1         0        0.0              0   \n",
              "3      0            84                0         0        0.0              2   \n",
              "4      0            75                0         0        0.0              3   \n",
              "\n",
              "   DayMins  DayCalls  MonthlyCharge  OverageFee  RoamMins  \n",
              "0    265.1       110           89.0        9.87      10.0  \n",
              "1    161.6       123           82.0        9.78      13.7  \n",
              "2    243.4       114           52.0        6.06      12.2  \n",
              "3    299.4        71           57.0        3.10       6.6  \n",
              "4    166.7       113           41.0        7.42      10.1  "
            ],
            "text/html": [
              "\n",
              "  <div id=\"df-24420cbc-b892-48f7-8387-d9f7e97aac63\">\n",
              "    <div class=\"colab-df-container\">\n",
              "      <div>\n",
              "<style scoped>\n",
              "    .dataframe tbody tr th:only-of-type {\n",
              "        vertical-align: middle;\n",
              "    }\n",
              "\n",
              "    .dataframe tbody tr th {\n",
              "        vertical-align: top;\n",
              "    }\n",
              "\n",
              "    .dataframe thead th {\n",
              "        text-align: right;\n",
              "    }\n",
              "</style>\n",
              "<table border=\"1\" class=\"dataframe\">\n",
              "  <thead>\n",
              "    <tr style=\"text-align: right;\">\n",
              "      <th></th>\n",
              "      <th>Churn</th>\n",
              "      <th>AccountWeeks</th>\n",
              "      <th>ContractRenewal</th>\n",
              "      <th>DataPlan</th>\n",
              "      <th>DataUsage</th>\n",
              "      <th>CustServCalls</th>\n",
              "      <th>DayMins</th>\n",
              "      <th>DayCalls</th>\n",
              "      <th>MonthlyCharge</th>\n",
              "      <th>OverageFee</th>\n",
              "      <th>RoamMins</th>\n",
              "    </tr>\n",
              "  </thead>\n",
              "  <tbody>\n",
              "    <tr>\n",
              "      <th>0</th>\n",
              "      <td>0</td>\n",
              "      <td>128</td>\n",
              "      <td>1</td>\n",
              "      <td>1</td>\n",
              "      <td>2.7</td>\n",
              "      <td>1</td>\n",
              "      <td>265.1</td>\n",
              "      <td>110</td>\n",
              "      <td>89.0</td>\n",
              "      <td>9.87</td>\n",
              "      <td>10.0</td>\n",
              "    </tr>\n",
              "    <tr>\n",
              "      <th>1</th>\n",
              "      <td>0</td>\n",
              "      <td>107</td>\n",
              "      <td>1</td>\n",
              "      <td>1</td>\n",
              "      <td>3.7</td>\n",
              "      <td>1</td>\n",
              "      <td>161.6</td>\n",
              "      <td>123</td>\n",
              "      <td>82.0</td>\n",
              "      <td>9.78</td>\n",
              "      <td>13.7</td>\n",
              "    </tr>\n",
              "    <tr>\n",
              "      <th>2</th>\n",
              "      <td>0</td>\n",
              "      <td>137</td>\n",
              "      <td>1</td>\n",
              "      <td>0</td>\n",
              "      <td>0.0</td>\n",
              "      <td>0</td>\n",
              "      <td>243.4</td>\n",
              "      <td>114</td>\n",
              "      <td>52.0</td>\n",
              "      <td>6.06</td>\n",
              "      <td>12.2</td>\n",
              "    </tr>\n",
              "    <tr>\n",
              "      <th>3</th>\n",
              "      <td>0</td>\n",
              "      <td>84</td>\n",
              "      <td>0</td>\n",
              "      <td>0</td>\n",
              "      <td>0.0</td>\n",
              "      <td>2</td>\n",
              "      <td>299.4</td>\n",
              "      <td>71</td>\n",
              "      <td>57.0</td>\n",
              "      <td>3.10</td>\n",
              "      <td>6.6</td>\n",
              "    </tr>\n",
              "    <tr>\n",
              "      <th>4</th>\n",
              "      <td>0</td>\n",
              "      <td>75</td>\n",
              "      <td>0</td>\n",
              "      <td>0</td>\n",
              "      <td>0.0</td>\n",
              "      <td>3</td>\n",
              "      <td>166.7</td>\n",
              "      <td>113</td>\n",
              "      <td>41.0</td>\n",
              "      <td>7.42</td>\n",
              "      <td>10.1</td>\n",
              "    </tr>\n",
              "  </tbody>\n",
              "</table>\n",
              "</div>\n",
              "      <button class=\"colab-df-convert\" onclick=\"convertToInteractive('df-24420cbc-b892-48f7-8387-d9f7e97aac63')\"\n",
              "              title=\"Convert this dataframe to an interactive table.\"\n",
              "              style=\"display:none;\">\n",
              "        \n",
              "  <svg xmlns=\"http://www.w3.org/2000/svg\" height=\"24px\"viewBox=\"0 0 24 24\"\n",
              "       width=\"24px\">\n",
              "    <path d=\"M0 0h24v24H0V0z\" fill=\"none\"/>\n",
              "    <path d=\"M18.56 5.44l.94 2.06.94-2.06 2.06-.94-2.06-.94-.94-2.06-.94 2.06-2.06.94zm-11 1L8.5 8.5l.94-2.06 2.06-.94-2.06-.94L8.5 2.5l-.94 2.06-2.06.94zm10 10l.94 2.06.94-2.06 2.06-.94-2.06-.94-.94-2.06-.94 2.06-2.06.94z\"/><path d=\"M17.41 7.96l-1.37-1.37c-.4-.4-.92-.59-1.43-.59-.52 0-1.04.2-1.43.59L10.3 9.45l-7.72 7.72c-.78.78-.78 2.05 0 2.83L4 21.41c.39.39.9.59 1.41.59.51 0 1.02-.2 1.41-.59l7.78-7.78 2.81-2.81c.8-.78.8-2.07 0-2.86zM5.41 20L4 18.59l7.72-7.72 1.47 1.35L5.41 20z\"/>\n",
              "  </svg>\n",
              "      </button>\n",
              "      \n",
              "  <style>\n",
              "    .colab-df-container {\n",
              "      display:flex;\n",
              "      flex-wrap:wrap;\n",
              "      gap: 12px;\n",
              "    }\n",
              "\n",
              "    .colab-df-convert {\n",
              "      background-color: #E8F0FE;\n",
              "      border: none;\n",
              "      border-radius: 50%;\n",
              "      cursor: pointer;\n",
              "      display: none;\n",
              "      fill: #1967D2;\n",
              "      height: 32px;\n",
              "      padding: 0 0 0 0;\n",
              "      width: 32px;\n",
              "    }\n",
              "\n",
              "    .colab-df-convert:hover {\n",
              "      background-color: #E2EBFA;\n",
              "      box-shadow: 0px 1px 2px rgba(60, 64, 67, 0.3), 0px 1px 3px 1px rgba(60, 64, 67, 0.15);\n",
              "      fill: #174EA6;\n",
              "    }\n",
              "\n",
              "    [theme=dark] .colab-df-convert {\n",
              "      background-color: #3B4455;\n",
              "      fill: #D2E3FC;\n",
              "    }\n",
              "\n",
              "    [theme=dark] .colab-df-convert:hover {\n",
              "      background-color: #434B5C;\n",
              "      box-shadow: 0px 1px 3px 1px rgba(0, 0, 0, 0.15);\n",
              "      filter: drop-shadow(0px 1px 2px rgba(0, 0, 0, 0.3));\n",
              "      fill: #FFFFFF;\n",
              "    }\n",
              "  </style>\n",
              "\n",
              "      <script>\n",
              "        const buttonEl =\n",
              "          document.querySelector('#df-24420cbc-b892-48f7-8387-d9f7e97aac63 button.colab-df-convert');\n",
              "        buttonEl.style.display =\n",
              "          google.colab.kernel.accessAllowed ? 'block' : 'none';\n",
              "\n",
              "        async function convertToInteractive(key) {\n",
              "          const element = document.querySelector('#df-24420cbc-b892-48f7-8387-d9f7e97aac63');\n",
              "          const dataTable =\n",
              "            await google.colab.kernel.invokeFunction('convertToInteractive',\n",
              "                                                     [key], {});\n",
              "          if (!dataTable) return;\n",
              "\n",
              "          const docLinkHtml = 'Like what you see? Visit the ' +\n",
              "            '<a target=\"_blank\" href=https://colab.research.google.com/notebooks/data_table.ipynb>data table notebook</a>'\n",
              "            + ' to learn more about interactive tables.';\n",
              "          element.innerHTML = '';\n",
              "          dataTable['output_type'] = 'display_data';\n",
              "          await google.colab.output.renderOutput(dataTable, element);\n",
              "          const docLink = document.createElement('div');\n",
              "          docLink.innerHTML = docLinkHtml;\n",
              "          element.appendChild(docLink);\n",
              "        }\n",
              "      </script>\n",
              "    </div>\n",
              "  </div>\n",
              "  "
            ]
          },
          "metadata": {},
          "execution_count": 72
        }
      ]
    },
    {
      "cell_type": "markdown",
      "metadata": {
        "id": "IjqJrfthYCZO"
      },
      "source": [
        "## Import Classifier Libraries from SciKit Learn"
      ]
    },
    {
      "cell_type": "code",
      "metadata": {
        "id": "L22I5YpBWRwg"
      },
      "source": [
        "from sklearn.neighbors import KNeighborsClassifier\n",
        "from sklearn.linear_model import LogisticRegression\n",
        "from sklearn.svm import SVC\n",
        "from sklearn.ensemble import RandomForestClassifier, AdaBoostClassifier\n",
        "from xgboost import XGBClassifier\n",
        "from sklearn.tree import DecisionTreeClassifier"
      ],
      "execution_count": 73,
      "outputs": []
    },
    {
      "cell_type": "markdown",
      "metadata": {
        "id": "6O3DHBFjYOfc"
      },
      "source": [
        "## Import Performance Analysis libraries"
      ]
    },
    {
      "cell_type": "code",
      "metadata": {
        "id": "oBCumJe7Yaa2"
      },
      "source": [
        "from sklearn.datasets import make_classification\n",
        "from sklearn.model_selection import train_test_split\n",
        "from sklearn.feature_selection import SelectFromModel\n",
        "from sklearn.metrics import accuracy_score\n",
        "from sklearn.inspection import permutation_importance\n",
        "from sklearn.model_selection import train_test_split, cross_val_score\n",
        "from sklearn.metrics import accuracy_score,precision_score,confusion_matrix,classification_report, precision_recall_curve\n",
        "from matplotlib import pyplot\n",
        "import numpy as np"
      ],
      "execution_count": 91,
      "outputs": []
    },
    {
      "cell_type": "markdown",
      "metadata": {
        "id": "zcIftx-hY5XH"
      },
      "source": [
        "## Exclude dependent feature"
      ]
    },
    {
      "cell_type": "code",
      "source": [
        "input_features = dataframe.drop(['Churn'], axis=1)"
      ],
      "metadata": {
        "id": "FaIqImwrJoZi"
      },
      "execution_count": 75,
      "outputs": []
    },
    {
      "cell_type": "markdown",
      "source": [
        "# Prepare Data"
      ],
      "metadata": {
        "id": "21w_uy6rKw2z"
      }
    },
    {
      "cell_type": "markdown",
      "metadata": {
        "id": "6DpbUJjge2Mq"
      },
      "source": [
        "## Summary Statistics"
      ]
    },
    {
      "cell_type": "code",
      "metadata": {
        "colab": {
          "base_uri": "https://localhost:8080/",
          "height": 364
        },
        "id": "SQaDziVvfAAq",
        "outputId": "669f7015-e24d-41cc-dddb-c81c317d4682"
      },
      "source": [
        "dataframe.describe()"
      ],
      "execution_count": 76,
      "outputs": [
        {
          "output_type": "execute_result",
          "data": {
            "text/plain": [
              "             Churn  AccountWeeks  ContractRenewal     DataPlan    DataUsage  \\\n",
              "count  3333.000000   3333.000000      3333.000000  3333.000000  3333.000000   \n",
              "mean      0.144914    101.064806         0.903090     0.276628     0.816475   \n",
              "std       0.352067     39.822106         0.295879     0.447398     1.272668   \n",
              "min       0.000000      1.000000         0.000000     0.000000     0.000000   \n",
              "25%       0.000000     74.000000         1.000000     0.000000     0.000000   \n",
              "50%       0.000000    101.000000         1.000000     0.000000     0.000000   \n",
              "75%       0.000000    127.000000         1.000000     1.000000     1.780000   \n",
              "max       1.000000    243.000000         1.000000     1.000000     5.400000   \n",
              "\n",
              "       CustServCalls      DayMins     DayCalls  MonthlyCharge   OverageFee  \\\n",
              "count    3333.000000  3333.000000  3333.000000    3333.000000  3333.000000   \n",
              "mean        1.562856   179.775098   100.435644      56.305161    10.051488   \n",
              "std         1.315491    54.467389    20.069084      16.426032     2.535712   \n",
              "min         0.000000     0.000000     0.000000      14.000000     0.000000   \n",
              "25%         1.000000   143.700000    87.000000      45.000000     8.330000   \n",
              "50%         1.000000   179.400000   101.000000      53.500000    10.070000   \n",
              "75%         2.000000   216.400000   114.000000      66.200000    11.770000   \n",
              "max         9.000000   350.800000   165.000000     111.300000    18.190000   \n",
              "\n",
              "          RoamMins  \n",
              "count  3333.000000  \n",
              "mean     10.237294  \n",
              "std       2.791840  \n",
              "min       0.000000  \n",
              "25%       8.500000  \n",
              "50%      10.300000  \n",
              "75%      12.100000  \n",
              "max      20.000000  "
            ],
            "text/html": [
              "\n",
              "  <div id=\"df-d02edf2b-4dab-48a3-b514-167df2b3ff0c\">\n",
              "    <div class=\"colab-df-container\">\n",
              "      <div>\n",
              "<style scoped>\n",
              "    .dataframe tbody tr th:only-of-type {\n",
              "        vertical-align: middle;\n",
              "    }\n",
              "\n",
              "    .dataframe tbody tr th {\n",
              "        vertical-align: top;\n",
              "    }\n",
              "\n",
              "    .dataframe thead th {\n",
              "        text-align: right;\n",
              "    }\n",
              "</style>\n",
              "<table border=\"1\" class=\"dataframe\">\n",
              "  <thead>\n",
              "    <tr style=\"text-align: right;\">\n",
              "      <th></th>\n",
              "      <th>Churn</th>\n",
              "      <th>AccountWeeks</th>\n",
              "      <th>ContractRenewal</th>\n",
              "      <th>DataPlan</th>\n",
              "      <th>DataUsage</th>\n",
              "      <th>CustServCalls</th>\n",
              "      <th>DayMins</th>\n",
              "      <th>DayCalls</th>\n",
              "      <th>MonthlyCharge</th>\n",
              "      <th>OverageFee</th>\n",
              "      <th>RoamMins</th>\n",
              "    </tr>\n",
              "  </thead>\n",
              "  <tbody>\n",
              "    <tr>\n",
              "      <th>count</th>\n",
              "      <td>3333.000000</td>\n",
              "      <td>3333.000000</td>\n",
              "      <td>3333.000000</td>\n",
              "      <td>3333.000000</td>\n",
              "      <td>3333.000000</td>\n",
              "      <td>3333.000000</td>\n",
              "      <td>3333.000000</td>\n",
              "      <td>3333.000000</td>\n",
              "      <td>3333.000000</td>\n",
              "      <td>3333.000000</td>\n",
              "      <td>3333.000000</td>\n",
              "    </tr>\n",
              "    <tr>\n",
              "      <th>mean</th>\n",
              "      <td>0.144914</td>\n",
              "      <td>101.064806</td>\n",
              "      <td>0.903090</td>\n",
              "      <td>0.276628</td>\n",
              "      <td>0.816475</td>\n",
              "      <td>1.562856</td>\n",
              "      <td>179.775098</td>\n",
              "      <td>100.435644</td>\n",
              "      <td>56.305161</td>\n",
              "      <td>10.051488</td>\n",
              "      <td>10.237294</td>\n",
              "    </tr>\n",
              "    <tr>\n",
              "      <th>std</th>\n",
              "      <td>0.352067</td>\n",
              "      <td>39.822106</td>\n",
              "      <td>0.295879</td>\n",
              "      <td>0.447398</td>\n",
              "      <td>1.272668</td>\n",
              "      <td>1.315491</td>\n",
              "      <td>54.467389</td>\n",
              "      <td>20.069084</td>\n",
              "      <td>16.426032</td>\n",
              "      <td>2.535712</td>\n",
              "      <td>2.791840</td>\n",
              "    </tr>\n",
              "    <tr>\n",
              "      <th>min</th>\n",
              "      <td>0.000000</td>\n",
              "      <td>1.000000</td>\n",
              "      <td>0.000000</td>\n",
              "      <td>0.000000</td>\n",
              "      <td>0.000000</td>\n",
              "      <td>0.000000</td>\n",
              "      <td>0.000000</td>\n",
              "      <td>0.000000</td>\n",
              "      <td>14.000000</td>\n",
              "      <td>0.000000</td>\n",
              "      <td>0.000000</td>\n",
              "    </tr>\n",
              "    <tr>\n",
              "      <th>25%</th>\n",
              "      <td>0.000000</td>\n",
              "      <td>74.000000</td>\n",
              "      <td>1.000000</td>\n",
              "      <td>0.000000</td>\n",
              "      <td>0.000000</td>\n",
              "      <td>1.000000</td>\n",
              "      <td>143.700000</td>\n",
              "      <td>87.000000</td>\n",
              "      <td>45.000000</td>\n",
              "      <td>8.330000</td>\n",
              "      <td>8.500000</td>\n",
              "    </tr>\n",
              "    <tr>\n",
              "      <th>50%</th>\n",
              "      <td>0.000000</td>\n",
              "      <td>101.000000</td>\n",
              "      <td>1.000000</td>\n",
              "      <td>0.000000</td>\n",
              "      <td>0.000000</td>\n",
              "      <td>1.000000</td>\n",
              "      <td>179.400000</td>\n",
              "      <td>101.000000</td>\n",
              "      <td>53.500000</td>\n",
              "      <td>10.070000</td>\n",
              "      <td>10.300000</td>\n",
              "    </tr>\n",
              "    <tr>\n",
              "      <th>75%</th>\n",
              "      <td>0.000000</td>\n",
              "      <td>127.000000</td>\n",
              "      <td>1.000000</td>\n",
              "      <td>1.000000</td>\n",
              "      <td>1.780000</td>\n",
              "      <td>2.000000</td>\n",
              "      <td>216.400000</td>\n",
              "      <td>114.000000</td>\n",
              "      <td>66.200000</td>\n",
              "      <td>11.770000</td>\n",
              "      <td>12.100000</td>\n",
              "    </tr>\n",
              "    <tr>\n",
              "      <th>max</th>\n",
              "      <td>1.000000</td>\n",
              "      <td>243.000000</td>\n",
              "      <td>1.000000</td>\n",
              "      <td>1.000000</td>\n",
              "      <td>5.400000</td>\n",
              "      <td>9.000000</td>\n",
              "      <td>350.800000</td>\n",
              "      <td>165.000000</td>\n",
              "      <td>111.300000</td>\n",
              "      <td>18.190000</td>\n",
              "      <td>20.000000</td>\n",
              "    </tr>\n",
              "  </tbody>\n",
              "</table>\n",
              "</div>\n",
              "      <button class=\"colab-df-convert\" onclick=\"convertToInteractive('df-d02edf2b-4dab-48a3-b514-167df2b3ff0c')\"\n",
              "              title=\"Convert this dataframe to an interactive table.\"\n",
              "              style=\"display:none;\">\n",
              "        \n",
              "  <svg xmlns=\"http://www.w3.org/2000/svg\" height=\"24px\"viewBox=\"0 0 24 24\"\n",
              "       width=\"24px\">\n",
              "    <path d=\"M0 0h24v24H0V0z\" fill=\"none\"/>\n",
              "    <path d=\"M18.56 5.44l.94 2.06.94-2.06 2.06-.94-2.06-.94-.94-2.06-.94 2.06-2.06.94zm-11 1L8.5 8.5l.94-2.06 2.06-.94-2.06-.94L8.5 2.5l-.94 2.06-2.06.94zm10 10l.94 2.06.94-2.06 2.06-.94-2.06-.94-.94-2.06-.94 2.06-2.06.94z\"/><path d=\"M17.41 7.96l-1.37-1.37c-.4-.4-.92-.59-1.43-.59-.52 0-1.04.2-1.43.59L10.3 9.45l-7.72 7.72c-.78.78-.78 2.05 0 2.83L4 21.41c.39.39.9.59 1.41.59.51 0 1.02-.2 1.41-.59l7.78-7.78 2.81-2.81c.8-.78.8-2.07 0-2.86zM5.41 20L4 18.59l7.72-7.72 1.47 1.35L5.41 20z\"/>\n",
              "  </svg>\n",
              "      </button>\n",
              "      \n",
              "  <style>\n",
              "    .colab-df-container {\n",
              "      display:flex;\n",
              "      flex-wrap:wrap;\n",
              "      gap: 12px;\n",
              "    }\n",
              "\n",
              "    .colab-df-convert {\n",
              "      background-color: #E8F0FE;\n",
              "      border: none;\n",
              "      border-radius: 50%;\n",
              "      cursor: pointer;\n",
              "      display: none;\n",
              "      fill: #1967D2;\n",
              "      height: 32px;\n",
              "      padding: 0 0 0 0;\n",
              "      width: 32px;\n",
              "    }\n",
              "\n",
              "    .colab-df-convert:hover {\n",
              "      background-color: #E2EBFA;\n",
              "      box-shadow: 0px 1px 2px rgba(60, 64, 67, 0.3), 0px 1px 3px 1px rgba(60, 64, 67, 0.15);\n",
              "      fill: #174EA6;\n",
              "    }\n",
              "\n",
              "    [theme=dark] .colab-df-convert {\n",
              "      background-color: #3B4455;\n",
              "      fill: #D2E3FC;\n",
              "    }\n",
              "\n",
              "    [theme=dark] .colab-df-convert:hover {\n",
              "      background-color: #434B5C;\n",
              "      box-shadow: 0px 1px 3px 1px rgba(0, 0, 0, 0.15);\n",
              "      filter: drop-shadow(0px 1px 2px rgba(0, 0, 0, 0.3));\n",
              "      fill: #FFFFFF;\n",
              "    }\n",
              "  </style>\n",
              "\n",
              "      <script>\n",
              "        const buttonEl =\n",
              "          document.querySelector('#df-d02edf2b-4dab-48a3-b514-167df2b3ff0c button.colab-df-convert');\n",
              "        buttonEl.style.display =\n",
              "          google.colab.kernel.accessAllowed ? 'block' : 'none';\n",
              "\n",
              "        async function convertToInteractive(key) {\n",
              "          const element = document.querySelector('#df-d02edf2b-4dab-48a3-b514-167df2b3ff0c');\n",
              "          const dataTable =\n",
              "            await google.colab.kernel.invokeFunction('convertToInteractive',\n",
              "                                                     [key], {});\n",
              "          if (!dataTable) return;\n",
              "\n",
              "          const docLinkHtml = 'Like what you see? Visit the ' +\n",
              "            '<a target=\"_blank\" href=https://colab.research.google.com/notebooks/data_table.ipynb>data table notebook</a>'\n",
              "            + ' to learn more about interactive tables.';\n",
              "          element.innerHTML = '';\n",
              "          dataTable['output_type'] = 'display_data';\n",
              "          await google.colab.output.renderOutput(dataTable, element);\n",
              "          const docLink = document.createElement('div');\n",
              "          docLink.innerHTML = docLinkHtml;\n",
              "          element.appendChild(docLink);\n",
              "        }\n",
              "      </script>\n",
              "    </div>\n",
              "  </div>\n",
              "  "
            ]
          },
          "metadata": {},
          "execution_count": 76
        }
      ]
    },
    {
      "cell_type": "markdown",
      "source": [
        "## Display first 5 rows of input features "
      ],
      "metadata": {
        "id": "GkG0KQEaJKpH"
      }
    },
    {
      "cell_type": "code",
      "metadata": {
        "colab": {
          "base_uri": "https://localhost:8080/",
          "height": 206
        },
        "id": "VXD91nnUWZrI",
        "outputId": "3c439b94-9143-4a10-af44-225a4963cfc3"
      },
      "source": [
        "input_features.head()"
      ],
      "execution_count": 77,
      "outputs": [
        {
          "output_type": "execute_result",
          "data": {
            "text/plain": [
              "   AccountWeeks  ContractRenewal  DataPlan  DataUsage  CustServCalls  DayMins  \\\n",
              "0           128                1         1        2.7              1    265.1   \n",
              "1           107                1         1        3.7              1    161.6   \n",
              "2           137                1         0        0.0              0    243.4   \n",
              "3            84                0         0        0.0              2    299.4   \n",
              "4            75                0         0        0.0              3    166.7   \n",
              "\n",
              "   DayCalls  MonthlyCharge  OverageFee  RoamMins  \n",
              "0       110           89.0        9.87      10.0  \n",
              "1       123           82.0        9.78      13.7  \n",
              "2       114           52.0        6.06      12.2  \n",
              "3        71           57.0        3.10       6.6  \n",
              "4       113           41.0        7.42      10.1  "
            ],
            "text/html": [
              "\n",
              "  <div id=\"df-2ca89d2b-7424-41fd-8193-a4b6138fcd3d\">\n",
              "    <div class=\"colab-df-container\">\n",
              "      <div>\n",
              "<style scoped>\n",
              "    .dataframe tbody tr th:only-of-type {\n",
              "        vertical-align: middle;\n",
              "    }\n",
              "\n",
              "    .dataframe tbody tr th {\n",
              "        vertical-align: top;\n",
              "    }\n",
              "\n",
              "    .dataframe thead th {\n",
              "        text-align: right;\n",
              "    }\n",
              "</style>\n",
              "<table border=\"1\" class=\"dataframe\">\n",
              "  <thead>\n",
              "    <tr style=\"text-align: right;\">\n",
              "      <th></th>\n",
              "      <th>AccountWeeks</th>\n",
              "      <th>ContractRenewal</th>\n",
              "      <th>DataPlan</th>\n",
              "      <th>DataUsage</th>\n",
              "      <th>CustServCalls</th>\n",
              "      <th>DayMins</th>\n",
              "      <th>DayCalls</th>\n",
              "      <th>MonthlyCharge</th>\n",
              "      <th>OverageFee</th>\n",
              "      <th>RoamMins</th>\n",
              "    </tr>\n",
              "  </thead>\n",
              "  <tbody>\n",
              "    <tr>\n",
              "      <th>0</th>\n",
              "      <td>128</td>\n",
              "      <td>1</td>\n",
              "      <td>1</td>\n",
              "      <td>2.7</td>\n",
              "      <td>1</td>\n",
              "      <td>265.1</td>\n",
              "      <td>110</td>\n",
              "      <td>89.0</td>\n",
              "      <td>9.87</td>\n",
              "      <td>10.0</td>\n",
              "    </tr>\n",
              "    <tr>\n",
              "      <th>1</th>\n",
              "      <td>107</td>\n",
              "      <td>1</td>\n",
              "      <td>1</td>\n",
              "      <td>3.7</td>\n",
              "      <td>1</td>\n",
              "      <td>161.6</td>\n",
              "      <td>123</td>\n",
              "      <td>82.0</td>\n",
              "      <td>9.78</td>\n",
              "      <td>13.7</td>\n",
              "    </tr>\n",
              "    <tr>\n",
              "      <th>2</th>\n",
              "      <td>137</td>\n",
              "      <td>1</td>\n",
              "      <td>0</td>\n",
              "      <td>0.0</td>\n",
              "      <td>0</td>\n",
              "      <td>243.4</td>\n",
              "      <td>114</td>\n",
              "      <td>52.0</td>\n",
              "      <td>6.06</td>\n",
              "      <td>12.2</td>\n",
              "    </tr>\n",
              "    <tr>\n",
              "      <th>3</th>\n",
              "      <td>84</td>\n",
              "      <td>0</td>\n",
              "      <td>0</td>\n",
              "      <td>0.0</td>\n",
              "      <td>2</td>\n",
              "      <td>299.4</td>\n",
              "      <td>71</td>\n",
              "      <td>57.0</td>\n",
              "      <td>3.10</td>\n",
              "      <td>6.6</td>\n",
              "    </tr>\n",
              "    <tr>\n",
              "      <th>4</th>\n",
              "      <td>75</td>\n",
              "      <td>0</td>\n",
              "      <td>0</td>\n",
              "      <td>0.0</td>\n",
              "      <td>3</td>\n",
              "      <td>166.7</td>\n",
              "      <td>113</td>\n",
              "      <td>41.0</td>\n",
              "      <td>7.42</td>\n",
              "      <td>10.1</td>\n",
              "    </tr>\n",
              "  </tbody>\n",
              "</table>\n",
              "</div>\n",
              "      <button class=\"colab-df-convert\" onclick=\"convertToInteractive('df-2ca89d2b-7424-41fd-8193-a4b6138fcd3d')\"\n",
              "              title=\"Convert this dataframe to an interactive table.\"\n",
              "              style=\"display:none;\">\n",
              "        \n",
              "  <svg xmlns=\"http://www.w3.org/2000/svg\" height=\"24px\"viewBox=\"0 0 24 24\"\n",
              "       width=\"24px\">\n",
              "    <path d=\"M0 0h24v24H0V0z\" fill=\"none\"/>\n",
              "    <path d=\"M18.56 5.44l.94 2.06.94-2.06 2.06-.94-2.06-.94-.94-2.06-.94 2.06-2.06.94zm-11 1L8.5 8.5l.94-2.06 2.06-.94-2.06-.94L8.5 2.5l-.94 2.06-2.06.94zm10 10l.94 2.06.94-2.06 2.06-.94-2.06-.94-.94-2.06-.94 2.06-2.06.94z\"/><path d=\"M17.41 7.96l-1.37-1.37c-.4-.4-.92-.59-1.43-.59-.52 0-1.04.2-1.43.59L10.3 9.45l-7.72 7.72c-.78.78-.78 2.05 0 2.83L4 21.41c.39.39.9.59 1.41.59.51 0 1.02-.2 1.41-.59l7.78-7.78 2.81-2.81c.8-.78.8-2.07 0-2.86zM5.41 20L4 18.59l7.72-7.72 1.47 1.35L5.41 20z\"/>\n",
              "  </svg>\n",
              "      </button>\n",
              "      \n",
              "  <style>\n",
              "    .colab-df-container {\n",
              "      display:flex;\n",
              "      flex-wrap:wrap;\n",
              "      gap: 12px;\n",
              "    }\n",
              "\n",
              "    .colab-df-convert {\n",
              "      background-color: #E8F0FE;\n",
              "      border: none;\n",
              "      border-radius: 50%;\n",
              "      cursor: pointer;\n",
              "      display: none;\n",
              "      fill: #1967D2;\n",
              "      height: 32px;\n",
              "      padding: 0 0 0 0;\n",
              "      width: 32px;\n",
              "    }\n",
              "\n",
              "    .colab-df-convert:hover {\n",
              "      background-color: #E2EBFA;\n",
              "      box-shadow: 0px 1px 2px rgba(60, 64, 67, 0.3), 0px 1px 3px 1px rgba(60, 64, 67, 0.15);\n",
              "      fill: #174EA6;\n",
              "    }\n",
              "\n",
              "    [theme=dark] .colab-df-convert {\n",
              "      background-color: #3B4455;\n",
              "      fill: #D2E3FC;\n",
              "    }\n",
              "\n",
              "    [theme=dark] .colab-df-convert:hover {\n",
              "      background-color: #434B5C;\n",
              "      box-shadow: 0px 1px 3px 1px rgba(0, 0, 0, 0.15);\n",
              "      filter: drop-shadow(0px 1px 2px rgba(0, 0, 0, 0.3));\n",
              "      fill: #FFFFFF;\n",
              "    }\n",
              "  </style>\n",
              "\n",
              "      <script>\n",
              "        const buttonEl =\n",
              "          document.querySelector('#df-2ca89d2b-7424-41fd-8193-a4b6138fcd3d button.colab-df-convert');\n",
              "        buttonEl.style.display =\n",
              "          google.colab.kernel.accessAllowed ? 'block' : 'none';\n",
              "\n",
              "        async function convertToInteractive(key) {\n",
              "          const element = document.querySelector('#df-2ca89d2b-7424-41fd-8193-a4b6138fcd3d');\n",
              "          const dataTable =\n",
              "            await google.colab.kernel.invokeFunction('convertToInteractive',\n",
              "                                                     [key], {});\n",
              "          if (!dataTable) return;\n",
              "\n",
              "          const docLinkHtml = 'Like what you see? Visit the ' +\n",
              "            '<a target=\"_blank\" href=https://colab.research.google.com/notebooks/data_table.ipynb>data table notebook</a>'\n",
              "            + ' to learn more about interactive tables.';\n",
              "          element.innerHTML = '';\n",
              "          dataTable['output_type'] = 'display_data';\n",
              "          await google.colab.output.renderOutput(dataTable, element);\n",
              "          const docLink = document.createElement('div');\n",
              "          docLink.innerHTML = docLinkHtml;\n",
              "          element.appendChild(docLink);\n",
              "        }\n",
              "      </script>\n",
              "    </div>\n",
              "  </div>\n",
              "  "
            ]
          },
          "metadata": {},
          "execution_count": 77
        }
      ]
    },
    {
      "cell_type": "markdown",
      "source": [
        "## Describe the bounds of the input features"
      ],
      "metadata": {
        "id": "Da22nftqJS5D"
      }
    },
    {
      "cell_type": "code",
      "source": [
        "input_features.describe()"
      ],
      "metadata": {
        "id": "MwkgffQUJOUc",
        "outputId": "516fe276-e182-49a5-9733-a166b290d388",
        "colab": {
          "base_uri": "https://localhost:8080/",
          "height": 300
        }
      },
      "execution_count": 78,
      "outputs": [
        {
          "output_type": "execute_result",
          "data": {
            "text/plain": [
              "       AccountWeeks  ContractRenewal     DataPlan    DataUsage  CustServCalls  \\\n",
              "count   3333.000000      3333.000000  3333.000000  3333.000000    3333.000000   \n",
              "mean     101.064806         0.903090     0.276628     0.816475       1.562856   \n",
              "std       39.822106         0.295879     0.447398     1.272668       1.315491   \n",
              "min        1.000000         0.000000     0.000000     0.000000       0.000000   \n",
              "25%       74.000000         1.000000     0.000000     0.000000       1.000000   \n",
              "50%      101.000000         1.000000     0.000000     0.000000       1.000000   \n",
              "75%      127.000000         1.000000     1.000000     1.780000       2.000000   \n",
              "max      243.000000         1.000000     1.000000     5.400000       9.000000   \n",
              "\n",
              "           DayMins     DayCalls  MonthlyCharge   OverageFee     RoamMins  \n",
              "count  3333.000000  3333.000000    3333.000000  3333.000000  3333.000000  \n",
              "mean    179.775098   100.435644      56.305161    10.051488    10.237294  \n",
              "std      54.467389    20.069084      16.426032     2.535712     2.791840  \n",
              "min       0.000000     0.000000      14.000000     0.000000     0.000000  \n",
              "25%     143.700000    87.000000      45.000000     8.330000     8.500000  \n",
              "50%     179.400000   101.000000      53.500000    10.070000    10.300000  \n",
              "75%     216.400000   114.000000      66.200000    11.770000    12.100000  \n",
              "max     350.800000   165.000000     111.300000    18.190000    20.000000  "
            ],
            "text/html": [
              "\n",
              "  <div id=\"df-e4afbc5e-1adf-4337-a488-fc0873fcb7f6\">\n",
              "    <div class=\"colab-df-container\">\n",
              "      <div>\n",
              "<style scoped>\n",
              "    .dataframe tbody tr th:only-of-type {\n",
              "        vertical-align: middle;\n",
              "    }\n",
              "\n",
              "    .dataframe tbody tr th {\n",
              "        vertical-align: top;\n",
              "    }\n",
              "\n",
              "    .dataframe thead th {\n",
              "        text-align: right;\n",
              "    }\n",
              "</style>\n",
              "<table border=\"1\" class=\"dataframe\">\n",
              "  <thead>\n",
              "    <tr style=\"text-align: right;\">\n",
              "      <th></th>\n",
              "      <th>AccountWeeks</th>\n",
              "      <th>ContractRenewal</th>\n",
              "      <th>DataPlan</th>\n",
              "      <th>DataUsage</th>\n",
              "      <th>CustServCalls</th>\n",
              "      <th>DayMins</th>\n",
              "      <th>DayCalls</th>\n",
              "      <th>MonthlyCharge</th>\n",
              "      <th>OverageFee</th>\n",
              "      <th>RoamMins</th>\n",
              "    </tr>\n",
              "  </thead>\n",
              "  <tbody>\n",
              "    <tr>\n",
              "      <th>count</th>\n",
              "      <td>3333.000000</td>\n",
              "      <td>3333.000000</td>\n",
              "      <td>3333.000000</td>\n",
              "      <td>3333.000000</td>\n",
              "      <td>3333.000000</td>\n",
              "      <td>3333.000000</td>\n",
              "      <td>3333.000000</td>\n",
              "      <td>3333.000000</td>\n",
              "      <td>3333.000000</td>\n",
              "      <td>3333.000000</td>\n",
              "    </tr>\n",
              "    <tr>\n",
              "      <th>mean</th>\n",
              "      <td>101.064806</td>\n",
              "      <td>0.903090</td>\n",
              "      <td>0.276628</td>\n",
              "      <td>0.816475</td>\n",
              "      <td>1.562856</td>\n",
              "      <td>179.775098</td>\n",
              "      <td>100.435644</td>\n",
              "      <td>56.305161</td>\n",
              "      <td>10.051488</td>\n",
              "      <td>10.237294</td>\n",
              "    </tr>\n",
              "    <tr>\n",
              "      <th>std</th>\n",
              "      <td>39.822106</td>\n",
              "      <td>0.295879</td>\n",
              "      <td>0.447398</td>\n",
              "      <td>1.272668</td>\n",
              "      <td>1.315491</td>\n",
              "      <td>54.467389</td>\n",
              "      <td>20.069084</td>\n",
              "      <td>16.426032</td>\n",
              "      <td>2.535712</td>\n",
              "      <td>2.791840</td>\n",
              "    </tr>\n",
              "    <tr>\n",
              "      <th>min</th>\n",
              "      <td>1.000000</td>\n",
              "      <td>0.000000</td>\n",
              "      <td>0.000000</td>\n",
              "      <td>0.000000</td>\n",
              "      <td>0.000000</td>\n",
              "      <td>0.000000</td>\n",
              "      <td>0.000000</td>\n",
              "      <td>14.000000</td>\n",
              "      <td>0.000000</td>\n",
              "      <td>0.000000</td>\n",
              "    </tr>\n",
              "    <tr>\n",
              "      <th>25%</th>\n",
              "      <td>74.000000</td>\n",
              "      <td>1.000000</td>\n",
              "      <td>0.000000</td>\n",
              "      <td>0.000000</td>\n",
              "      <td>1.000000</td>\n",
              "      <td>143.700000</td>\n",
              "      <td>87.000000</td>\n",
              "      <td>45.000000</td>\n",
              "      <td>8.330000</td>\n",
              "      <td>8.500000</td>\n",
              "    </tr>\n",
              "    <tr>\n",
              "      <th>50%</th>\n",
              "      <td>101.000000</td>\n",
              "      <td>1.000000</td>\n",
              "      <td>0.000000</td>\n",
              "      <td>0.000000</td>\n",
              "      <td>1.000000</td>\n",
              "      <td>179.400000</td>\n",
              "      <td>101.000000</td>\n",
              "      <td>53.500000</td>\n",
              "      <td>10.070000</td>\n",
              "      <td>10.300000</td>\n",
              "    </tr>\n",
              "    <tr>\n",
              "      <th>75%</th>\n",
              "      <td>127.000000</td>\n",
              "      <td>1.000000</td>\n",
              "      <td>1.000000</td>\n",
              "      <td>1.780000</td>\n",
              "      <td>2.000000</td>\n",
              "      <td>216.400000</td>\n",
              "      <td>114.000000</td>\n",
              "      <td>66.200000</td>\n",
              "      <td>11.770000</td>\n",
              "      <td>12.100000</td>\n",
              "    </tr>\n",
              "    <tr>\n",
              "      <th>max</th>\n",
              "      <td>243.000000</td>\n",
              "      <td>1.000000</td>\n",
              "      <td>1.000000</td>\n",
              "      <td>5.400000</td>\n",
              "      <td>9.000000</td>\n",
              "      <td>350.800000</td>\n",
              "      <td>165.000000</td>\n",
              "      <td>111.300000</td>\n",
              "      <td>18.190000</td>\n",
              "      <td>20.000000</td>\n",
              "    </tr>\n",
              "  </tbody>\n",
              "</table>\n",
              "</div>\n",
              "      <button class=\"colab-df-convert\" onclick=\"convertToInteractive('df-e4afbc5e-1adf-4337-a488-fc0873fcb7f6')\"\n",
              "              title=\"Convert this dataframe to an interactive table.\"\n",
              "              style=\"display:none;\">\n",
              "        \n",
              "  <svg xmlns=\"http://www.w3.org/2000/svg\" height=\"24px\"viewBox=\"0 0 24 24\"\n",
              "       width=\"24px\">\n",
              "    <path d=\"M0 0h24v24H0V0z\" fill=\"none\"/>\n",
              "    <path d=\"M18.56 5.44l.94 2.06.94-2.06 2.06-.94-2.06-.94-.94-2.06-.94 2.06-2.06.94zm-11 1L8.5 8.5l.94-2.06 2.06-.94-2.06-.94L8.5 2.5l-.94 2.06-2.06.94zm10 10l.94 2.06.94-2.06 2.06-.94-2.06-.94-.94-2.06-.94 2.06-2.06.94z\"/><path d=\"M17.41 7.96l-1.37-1.37c-.4-.4-.92-.59-1.43-.59-.52 0-1.04.2-1.43.59L10.3 9.45l-7.72 7.72c-.78.78-.78 2.05 0 2.83L4 21.41c.39.39.9.59 1.41.59.51 0 1.02-.2 1.41-.59l7.78-7.78 2.81-2.81c.8-.78.8-2.07 0-2.86zM5.41 20L4 18.59l7.72-7.72 1.47 1.35L5.41 20z\"/>\n",
              "  </svg>\n",
              "      </button>\n",
              "      \n",
              "  <style>\n",
              "    .colab-df-container {\n",
              "      display:flex;\n",
              "      flex-wrap:wrap;\n",
              "      gap: 12px;\n",
              "    }\n",
              "\n",
              "    .colab-df-convert {\n",
              "      background-color: #E8F0FE;\n",
              "      border: none;\n",
              "      border-radius: 50%;\n",
              "      cursor: pointer;\n",
              "      display: none;\n",
              "      fill: #1967D2;\n",
              "      height: 32px;\n",
              "      padding: 0 0 0 0;\n",
              "      width: 32px;\n",
              "    }\n",
              "\n",
              "    .colab-df-convert:hover {\n",
              "      background-color: #E2EBFA;\n",
              "      box-shadow: 0px 1px 2px rgba(60, 64, 67, 0.3), 0px 1px 3px 1px rgba(60, 64, 67, 0.15);\n",
              "      fill: #174EA6;\n",
              "    }\n",
              "\n",
              "    [theme=dark] .colab-df-convert {\n",
              "      background-color: #3B4455;\n",
              "      fill: #D2E3FC;\n",
              "    }\n",
              "\n",
              "    [theme=dark] .colab-df-convert:hover {\n",
              "      background-color: #434B5C;\n",
              "      box-shadow: 0px 1px 3px 1px rgba(0, 0, 0, 0.15);\n",
              "      filter: drop-shadow(0px 1px 2px rgba(0, 0, 0, 0.3));\n",
              "      fill: #FFFFFF;\n",
              "    }\n",
              "  </style>\n",
              "\n",
              "      <script>\n",
              "        const buttonEl =\n",
              "          document.querySelector('#df-e4afbc5e-1adf-4337-a488-fc0873fcb7f6 button.colab-df-convert');\n",
              "        buttonEl.style.display =\n",
              "          google.colab.kernel.accessAllowed ? 'block' : 'none';\n",
              "\n",
              "        async function convertToInteractive(key) {\n",
              "          const element = document.querySelector('#df-e4afbc5e-1adf-4337-a488-fc0873fcb7f6');\n",
              "          const dataTable =\n",
              "            await google.colab.kernel.invokeFunction('convertToInteractive',\n",
              "                                                     [key], {});\n",
              "          if (!dataTable) return;\n",
              "\n",
              "          const docLinkHtml = 'Like what you see? Visit the ' +\n",
              "            '<a target=\"_blank\" href=https://colab.research.google.com/notebooks/data_table.ipynb>data table notebook</a>'\n",
              "            + ' to learn more about interactive tables.';\n",
              "          element.innerHTML = '';\n",
              "          dataTable['output_type'] = 'display_data';\n",
              "          await google.colab.output.renderOutput(dataTable, element);\n",
              "          const docLink = document.createElement('div');\n",
              "          docLink.innerHTML = docLinkHtml;\n",
              "          element.appendChild(docLink);\n",
              "        }\n",
              "      </script>\n",
              "    </div>\n",
              "  </div>\n",
              "  "
            ]
          },
          "metadata": {},
          "execution_count": 78
        }
      ]
    },
    {
      "cell_type": "markdown",
      "source": [
        "## Display information about input features"
      ],
      "metadata": {
        "id": "K48B8z6tJBcC"
      }
    },
    {
      "cell_type": "code",
      "metadata": {
        "colab": {
          "base_uri": "https://localhost:8080/"
        },
        "id": "SFxgYLajj8CI",
        "outputId": "c804e10f-5780-4e8a-92f7-b27ed7cbd072"
      },
      "source": [
        "input_features.info()"
      ],
      "execution_count": 79,
      "outputs": [
        {
          "output_type": "stream",
          "name": "stdout",
          "text": [
            "<class 'pandas.core.frame.DataFrame'>\n",
            "RangeIndex: 3333 entries, 0 to 3332\n",
            "Data columns (total 10 columns):\n",
            " #   Column           Non-Null Count  Dtype  \n",
            "---  ------           --------------  -----  \n",
            " 0   AccountWeeks     3333 non-null   int64  \n",
            " 1   ContractRenewal  3333 non-null   int64  \n",
            " 2   DataPlan         3333 non-null   int64  \n",
            " 3   DataUsage        3333 non-null   float64\n",
            " 4   CustServCalls    3333 non-null   int64  \n",
            " 5   DayMins          3333 non-null   float64\n",
            " 6   DayCalls         3333 non-null   int64  \n",
            " 7   MonthlyCharge    3333 non-null   float64\n",
            " 8   OverageFee       3333 non-null   float64\n",
            " 9   RoamMins         3333 non-null   float64\n",
            "dtypes: float64(5), int64(5)\n",
            "memory usage: 260.5 KB\n"
          ]
        }
      ]
    },
    {
      "cell_type": "markdown",
      "metadata": {
        "id": "JZB26TB0cRUL"
      },
      "source": [
        "## Examining dependent feature"
      ]
    },
    {
      "cell_type": "code",
      "metadata": {
        "colab": {
          "base_uri": "https://localhost:8080/"
        },
        "id": "FoV2CPcVXrp7",
        "outputId": "5dfb25b2-286a-4666-d7c8-45aed1662621"
      },
      "source": [
        "dependent_feature = dataframe['Churn']\n",
        "dependent_feature.head()"
      ],
      "execution_count": 80,
      "outputs": [
        {
          "output_type": "execute_result",
          "data": {
            "text/plain": [
              "0    0\n",
              "1    0\n",
              "2    0\n",
              "3    0\n",
              "4    0\n",
              "Name: Churn, dtype: int64"
            ]
          },
          "metadata": {},
          "execution_count": 80
        }
      ]
    },
    {
      "cell_type": "markdown",
      "metadata": {
        "id": "B83aUGYNfSG7"
      },
      "source": [
        "## Calculating the summary statistics of output feature"
      ]
    },
    {
      "cell_type": "code",
      "metadata": {
        "colab": {
          "base_uri": "https://localhost:8080/"
        },
        "id": "xqtmdSOLfaMw",
        "outputId": "4bcec37c-88f2-42e9-fab3-8cc38137fd24"
      },
      "source": [
        "dependent_feature.describe()"
      ],
      "execution_count": 81,
      "outputs": [
        {
          "output_type": "execute_result",
          "data": {
            "text/plain": [
              "count    3333.000000\n",
              "mean        0.144914\n",
              "std         0.352067\n",
              "min         0.000000\n",
              "25%         0.000000\n",
              "50%         0.000000\n",
              "75%         0.000000\n",
              "max         1.000000\n",
              "Name: Churn, dtype: float64"
            ]
          },
          "metadata": {},
          "execution_count": 81
        }
      ]
    },
    {
      "cell_type": "markdown",
      "source": [
        "# Prepare ML Experiments"
      ],
      "metadata": {
        "id": "gYMtRHOzK6bH"
      }
    },
    {
      "cell_type": "markdown",
      "metadata": {
        "id": "gl4wcdFIchYZ"
      },
      "source": [
        "## Preparing train and test data"
      ]
    },
    {
      "cell_type": "code",
      "metadata": {
        "id": "s1dS8EAzXyYj"
      },
      "source": [
        "X_train, X_test, y_train, y_test = train_test_split(input_features, dependent_feature, test_size=0.3)"
      ],
      "execution_count": 82,
      "outputs": []
    },
    {
      "cell_type": "markdown",
      "source": [
        "# Evaluation"
      ],
      "metadata": {
        "id": "rXxfK4Q9LCJZ"
      }
    },
    {
      "cell_type": "markdown",
      "metadata": {
        "id": "EaKJ9AifKo7k"
      },
      "source": [
        "## Evaluation of RandomForest model"
      ]
    },
    {
      "cell_type": "code",
      "metadata": {
        "colab": {
          "base_uri": "https://localhost:8080/"
        },
        "id": "kJn-ev3qLBKg",
        "outputId": "e2b5c9ae-3ccb-4a45-c519-1f93e90704bd"
      },
      "source": [
        "model = RandomForestClassifier()\n",
        "model.fit(X_train, y_train)\n",
        "\n",
        "y_pred = model.predict(X_test)\n",
        "accuracy = accuracy_score(y_test, y_pred)\n",
        "\n",
        "print(\"Accuracy: %0.2f\" % accuracy )\n",
        "print(classification_report(y_test,y_pred))\n",
        "\n",
        "for feature, score in enumerate(model.feature_importances_):\n",
        "\tprint('%s\\t\\t%.2f' % (dataframe.columns[feature],score))\n",
        " \n",
        "true_negatives, false_positives, false_negatives, true_positives = confusion_matrix(y_test, y_pred).ravel()\n",
        "print(\"False Negatives: %0.2f\" % false_negatives)"
      ],
      "execution_count": 83,
      "outputs": [
        {
          "output_type": "stream",
          "name": "stdout",
          "text": [
            "Accuracy: 0.94\n",
            "              precision    recall  f1-score   support\n",
            "\n",
            "           0       0.94      0.99      0.97       845\n",
            "           1       0.93      0.66      0.77       155\n",
            "\n",
            "    accuracy                           0.94      1000\n",
            "   macro avg       0.93      0.83      0.87      1000\n",
            "weighted avg       0.94      0.94      0.94      1000\n",
            "\n",
            "Churn\t\t0.06\n",
            "AccountWeeks\t\t0.06\n",
            "ContractRenewal\t\t0.03\n",
            "DataPlan\t\t0.06\n",
            "DataUsage\t\t0.14\n",
            "CustServCalls\t\t0.21\n",
            "DayMins\t\t0.07\n",
            "DayCalls\t\t0.15\n",
            "MonthlyCharge\t\t0.11\n",
            "OverageFee\t\t0.09\n",
            "False Negatives: 52.00\n"
          ]
        }
      ]
    },
    {
      "cell_type": "markdown",
      "metadata": {
        "id": "mJu1sRn9crwq"
      },
      "source": [
        "## Evaluation of kNN (k Nearest Neighbours) Model "
      ]
    },
    {
      "cell_type": "code",
      "source": [
        "model = KNeighborsClassifier()\n",
        "model.fit(X_train, y_train)\n",
        "\n",
        "y_pred = model.predict(X_test)\n",
        "accuracy = accuracy_score(y_test, y_pred)\n",
        "\n",
        "print(\"Accuracy: %0.2f\" % accuracy )\n",
        "print(classification_report(y_test,y_pred))\n",
        "\n",
        "true_negatives, false_positives, false_negatives, true_positives = confusion_matrix(y_test, y_pred).ravel()\n",
        "print(\"False Negatives: %0.2f\" % false_negatives)"
      ],
      "metadata": {
        "colab": {
          "base_uri": "https://localhost:8080/"
        },
        "id": "N8SsMV-qC02o",
        "outputId": "02557ef6-da7d-4035-b283-9d681b930d61"
      },
      "execution_count": 84,
      "outputs": [
        {
          "output_type": "stream",
          "name": "stdout",
          "text": [
            "Accuracy: 0.87\n",
            "              precision    recall  f1-score   support\n",
            "\n",
            "           0       0.88      0.98      0.93       845\n",
            "           1       0.71      0.29      0.41       155\n",
            "\n",
            "    accuracy                           0.87      1000\n",
            "   macro avg       0.80      0.63      0.67      1000\n",
            "weighted avg       0.86      0.87      0.85      1000\n",
            "\n",
            "False Negatives: 110.00\n"
          ]
        }
      ]
    },
    {
      "cell_type": "markdown",
      "metadata": {
        "id": "bXasZfaFf3qx"
      },
      "source": [
        "## Evaluation of Decision Tree Classifier"
      ]
    },
    {
      "cell_type": "code",
      "metadata": {
        "colab": {
          "base_uri": "https://localhost:8080/"
        },
        "id": "AEPyVqV0wPtC",
        "outputId": "90847a24-84eb-498c-f1f6-b76f4bf1b298"
      },
      "source": [
        "model = DecisionTreeClassifier()\n",
        "model.fit(X_train, y_train)\n",
        "\n",
        "y_pred = model.predict(X_test)\n",
        "accuracy = accuracy_score(y_test, y_pred)\n",
        "\n",
        "print(\"Accuracy: %0.2f\" % accuracy )\n",
        "print(classification_report(y_test,y_pred))\n",
        "\n",
        "for feature, score in enumerate(model.feature_importances_):\n",
        "\tprint('%s\\t\\t%.2f' % (dataframe.columns[feature],score))\n",
        " \n",
        "true_negatives, false_positives, false_negatives, true_positives = confusion_matrix(y_test, y_pred).ravel()\n",
        "print(\"False Negatives: %0.2f\" % false_negatives)"
      ],
      "execution_count": 85,
      "outputs": [
        {
          "output_type": "stream",
          "name": "stdout",
          "text": [
            "Accuracy: 0.88\n",
            "              precision    recall  f1-score   support\n",
            "\n",
            "           0       0.93      0.93      0.93       845\n",
            "           1       0.62      0.64      0.63       155\n",
            "\n",
            "    accuracy                           0.88      1000\n",
            "   macro avg       0.78      0.78      0.78      1000\n",
            "weighted avg       0.88      0.88      0.88      1000\n",
            "\n",
            "Churn\t\t0.05\n",
            "AccountWeeks\t\t0.07\n",
            "ContractRenewal\t\t0.01\n",
            "DataPlan\t\t0.07\n",
            "DataUsage\t\t0.11\n",
            "CustServCalls\t\t0.19\n",
            "DayMins\t\t0.09\n",
            "DayCalls\t\t0.17\n",
            "MonthlyCharge\t\t0.13\n",
            "OverageFee\t\t0.10\n",
            "False Negatives: 56.00\n"
          ]
        }
      ]
    },
    {
      "cell_type": "markdown",
      "source": [
        "## Evaluation of SVC Model"
      ],
      "metadata": {
        "id": "qZzVRn7QFNUY"
      }
    },
    {
      "cell_type": "code",
      "source": [
        "mode = SVC()\n",
        "model.fit(X_train, y_train)\n",
        "\n",
        "y_pred = model.predict(X_test)\n",
        "accuracy = accuracy_score(y_test, y_pred)\n",
        "\n",
        "print(\"Accuracy: %0.2f\" % accuracy )\n",
        "print(classification_report(y_test,y_pred))\n",
        "\n",
        "for feature, score in enumerate(model.feature_importances_):\n",
        "\tprint('%s\\t\\t%.2f' % (dataframe.columns[feature],score))\n",
        " \n",
        "true_negatives, false_positives, false_negatives, true_positives = confusion_matrix(y_test, y_pred).ravel()\n",
        "print(\"False Negatives: %0.2f\" % false_negatives)"
      ],
      "metadata": {
        "colab": {
          "base_uri": "https://localhost:8080/"
        },
        "id": "ES9HwMNPFQdt",
        "outputId": "5fff01fb-eec6-4ead-a8a1-c5879ac17db0"
      },
      "execution_count": 86,
      "outputs": [
        {
          "output_type": "stream",
          "name": "stdout",
          "text": [
            "Accuracy: 0.88\n",
            "              precision    recall  f1-score   support\n",
            "\n",
            "           0       0.93      0.93      0.93       845\n",
            "           1       0.62      0.63      0.62       155\n",
            "\n",
            "    accuracy                           0.88      1000\n",
            "   macro avg       0.77      0.78      0.78      1000\n",
            "weighted avg       0.88      0.88      0.88      1000\n",
            "\n",
            "Churn\t\t0.05\n",
            "AccountWeeks\t\t0.07\n",
            "ContractRenewal\t\t0.05\n",
            "DataPlan\t\t0.03\n",
            "DataUsage\t\t0.12\n",
            "CustServCalls\t\t0.20\n",
            "DayMins\t\t0.09\n",
            "DayCalls\t\t0.17\n",
            "MonthlyCharge\t\t0.13\n",
            "OverageFee\t\t0.10\n",
            "False Negatives: 57.00\n"
          ]
        }
      ]
    },
    {
      "cell_type": "markdown",
      "source": [
        "## Evaluation of Logistic Regression model"
      ],
      "metadata": {
        "id": "_Wl41BN7Ece9"
      }
    },
    {
      "cell_type": "code",
      "metadata": {
        "colab": {
          "base_uri": "https://localhost:8080/"
        },
        "id": "Y2HDCVZuzPld",
        "outputId": "4f4c4eeb-c3b6-4549-9a2a-4c7297095dc4"
      },
      "source": [
        "model = LogisticRegression()\n",
        "model.fit(X_train, y_train)\n",
        "\n",
        "y_pred = model.predict(X_test)\n",
        "accuracy = accuracy_score(y_test, y_pred)\n",
        "\n",
        "print(\"Accuracy: %0.2f\" % accuracy )\n",
        "print(classification_report(y_test,y_pred))\n",
        "\n",
        "true_negatives, false_positives, false_negatives, true_positives = confusion_matrix(y_test, y_pred).ravel()\n",
        "print(\"False Negatives: %0.2f\" % false_negatives)"
      ],
      "execution_count": 87,
      "outputs": [
        {
          "output_type": "stream",
          "name": "stdout",
          "text": [
            "Accuracy: 0.85\n",
            "              precision    recall  f1-score   support\n",
            "\n",
            "           0       0.87      0.97      0.92       845\n",
            "           1       0.55      0.17      0.26       155\n",
            "\n",
            "    accuracy                           0.85      1000\n",
            "   macro avg       0.71      0.57      0.59      1000\n",
            "weighted avg       0.82      0.85      0.82      1000\n",
            "\n",
            "False Negatives: 128.00\n"
          ]
        },
        {
          "output_type": "stream",
          "name": "stderr",
          "text": [
            "/usr/local/lib/python3.9/dist-packages/sklearn/linear_model/_logistic.py:458: ConvergenceWarning: lbfgs failed to converge (status=1):\n",
            "STOP: TOTAL NO. of ITERATIONS REACHED LIMIT.\n",
            "\n",
            "Increase the number of iterations (max_iter) or scale the data as shown in:\n",
            "    https://scikit-learn.org/stable/modules/preprocessing.html\n",
            "Please also refer to the documentation for alternative solver options:\n",
            "    https://scikit-learn.org/stable/modules/linear_model.html#logistic-regression\n",
            "  n_iter_i = _check_optimize_result(\n"
          ]
        }
      ]
    },
    {
      "cell_type": "markdown",
      "metadata": {
        "id": "9IgGLl2hfzWd"
      },
      "source": [
        "## Evaluation of XGB Model"
      ]
    },
    {
      "cell_type": "code",
      "metadata": {
        "colab": {
          "base_uri": "https://localhost:8080/",
          "height": 871
        },
        "id": "ZT_Rl6Csqkk4",
        "outputId": "789fe30d-fed9-41da-fbfe-9b9948b521f1"
      },
      "source": [
        "model = XGBClassifier()\n",
        "model.fit(X_train, y_train)\n",
        "\n",
        "y_pred = model.predict(X_test)\n",
        "accuracy = accuracy_score(y_test, y_pred)\n",
        "\n",
        "print(\"Accuracy: %0.2f\" % accuracy )\n",
        "print(classification_report(y_test,y_pred))\n",
        "for feature, score in enumerate(model.feature_importances_):\n",
        "\tprint('%s\\t\\t%.2f' % (dataframe.columns[feature],score))\n",
        "\n",
        "\n",
        "true_negatives, false_positives, false_negatives, true_positives = confusion_matrix(y_test, y_pred).ravel()\n",
        "print(\"False Negatives: %0.2f\" % false_negatives)\n",
        "confusion_matrix(y_test, y_pred)\n"
      ],
      "execution_count": 94,
      "outputs": [
        {
          "output_type": "stream",
          "name": "stdout",
          "text": [
            "Accuracy: 0.94\n",
            "              precision    recall  f1-score   support\n",
            "\n",
            "           0       0.94      0.99      0.96       845\n",
            "           1       0.89      0.66      0.76       155\n",
            "\n",
            "    accuracy                           0.94      1000\n",
            "   macro avg       0.92      0.82      0.86      1000\n",
            "weighted avg       0.93      0.94      0.93      1000\n",
            "\n",
            "Churn\t\t0.03\n",
            "AccountWeeks\t\t0.18\n",
            "ContractRenewal\t\t0.34\n",
            "DataPlan\t\t0.06\n",
            "DataUsage\t\t0.12\n",
            "CustServCalls\t\t0.08\n",
            "DayMins\t\t0.03\n",
            "DayCalls\t\t0.06\n",
            "MonthlyCharge\t\t0.05\n",
            "OverageFee\t\t0.04\n"
          ]
        },
        {
          "output_type": "display_data",
          "data": {
            "text/plain": [
              "<Figure size 640x480 with 1 Axes>"
            ],
            "image/png": "[encoded data removed]"
          },
          "metadata": {}
        },
        {
          "output_type": "stream",
          "name": "stdout",
          "text": [
            "False Negatives: 53.00\n"
          ]
        },
        {
          "output_type": "execute_result",
          "data": {
            "text/plain": [
              "array([[833,  12],\n",
              "       [ 53, 102]])"
            ]
          },
          "metadata": {},
          "execution_count": 94
        }
      ]
    },
    {
      "cell_type": "markdown",
      "source": [
        "# Lost Revenue"
      ],
      "metadata": {
        "id": "rgAQ1cruWs0n"
      }
    },
    {
      "cell_type": "code",
      "source": [
        "mean_monthly_charge = input_features['MonthlyCharge'].mean()\n",
        "mean_account_weeks = input_features['AccountWeeks'].mean()\n",
        "mean_account_months = mean_account_weeks / 4\n",
        "lost_revenue = (false_negatives * mean_monthly_charge) * mean_account_months\n",
        "\n",
        "print(\"Lost Revenue: $%0.2f\" % lost_revenue)"
      ],
      "metadata": {
        "colab": {
          "base_uri": "https://localhost:8080/"
        },
        "id": "7xhhXdj9Wpxt",
        "outputId": "51e9b2f2-e044-4c6f-dd9a-3522a8bc54c4"
      },
      "execution_count": 89,
      "outputs": [
        {
          "output_type": "stream",
          "name": "stdout",
          "text": [
            "Lost Revenue: $75398.73\n"
          ]
        }
      ]
    },
    {
      "cell_type": "markdown",
      "source": [
        "# Most Important Feature"
      ],
      "metadata": {
        "id": "mqjHuL5mYJOl"
      }
    },
    {
      "cell_type": "code",
      "source": [
        "from xgboost import plot_importance\n",
        "\n",
        "plot_importance(model)\n",
        "pyplot.show()"
      ],
      "metadata": {
        "colab": {
          "base_uri": "https://localhost:8080/",
          "height": 472
        },
        "id": "anR5417GYdHW",
        "outputId": "7ff9ab08-dd7e-467b-a38d-7a7c95046850"
      },
      "execution_count": 96,
      "outputs": [
        {
          "output_type": "display_data",
          "data": {
            "text/plain": [
              "<Figure size 640x480 with 1 Axes>"
            ],
            "image/png": "[encoded data removed]"
          },
          "metadata": {}
        }
      ]
    }
  ]
}